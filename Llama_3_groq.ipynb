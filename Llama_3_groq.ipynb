{
  "nbformat": 4,
  "nbformat_minor": 0,
  "metadata": {
    "colab": {
      "provenance": []
    },
    "kernelspec": {
      "name": "python3",
      "display_name": "Python 3"
    },
    "language_info": {
      "name": "python"
    }
  },
  "cells": [
    {
      "cell_type": "code",
      "execution_count": 1,
      "metadata": {
        "colab": {
          "base_uri": "https://localhost:8080/"
        },
        "id": "7SWgoc2vmxXg",
        "outputId": "7c8a0011-e599-49a9-82d6-a97dd92b3aac"
      },
      "outputs": [
        {
          "output_type": "stream",
          "name": "stdout",
          "text": [
            "Collecting groq\n",
            "  Downloading groq-0.5.0-py3-none-any.whl (75 kB)\n",
            "\u001b[2K     \u001b[90m━━━━━━━━━━━━━━━━━━━━━━━━━━━━━━━━━━━━━━━━\u001b[0m \u001b[32m75.0/75.0 kB\u001b[0m \u001b[31m1.7 MB/s\u001b[0m eta \u001b[36m0:00:00\u001b[0m\n",
            "\u001b[?25hRequirement already satisfied: anyio<5,>=3.5.0 in /usr/local/lib/python3.10/dist-packages (from groq) (3.7.1)\n",
            "Requirement already satisfied: distro<2,>=1.7.0 in /usr/lib/python3/dist-packages (from groq) (1.7.0)\n",
            "Collecting httpx<1,>=0.23.0 (from groq)\n",
            "  Downloading httpx-0.27.0-py3-none-any.whl (75 kB)\n",
            "\u001b[2K     \u001b[90m━━━━━━━━━━━━━━━━━━━━━━━━━━━━━━━━━━━━━━━━\u001b[0m \u001b[32m75.6/75.6 kB\u001b[0m \u001b[31m5.0 MB/s\u001b[0m eta \u001b[36m0:00:00\u001b[0m\n",
            "\u001b[?25hRequirement already satisfied: pydantic<3,>=1.9.0 in /usr/local/lib/python3.10/dist-packages (from groq) (2.7.0)\n",
            "Requirement already satisfied: sniffio in /usr/local/lib/python3.10/dist-packages (from groq) (1.3.1)\n",
            "Requirement already satisfied: typing-extensions<5,>=4.7 in /usr/local/lib/python3.10/dist-packages (from groq) (4.11.0)\n",
            "Requirement already satisfied: idna>=2.8 in /usr/local/lib/python3.10/dist-packages (from anyio<5,>=3.5.0->groq) (3.7)\n",
            "Requirement already satisfied: exceptiongroup in /usr/local/lib/python3.10/dist-packages (from anyio<5,>=3.5.0->groq) (1.2.0)\n",
            "Requirement already satisfied: certifi in /usr/local/lib/python3.10/dist-packages (from httpx<1,>=0.23.0->groq) (2024.2.2)\n",
            "Collecting httpcore==1.* (from httpx<1,>=0.23.0->groq)\n",
            "  Downloading httpcore-1.0.5-py3-none-any.whl (77 kB)\n",
            "\u001b[2K     \u001b[90m━━━━━━━━━━━━━━━━━━━━━━━━━━━━━━━━━━━━━━━━\u001b[0m \u001b[32m77.9/77.9 kB\u001b[0m \u001b[31m6.0 MB/s\u001b[0m eta \u001b[36m0:00:00\u001b[0m\n",
            "\u001b[?25hCollecting h11<0.15,>=0.13 (from httpcore==1.*->httpx<1,>=0.23.0->groq)\n",
            "  Downloading h11-0.14.0-py3-none-any.whl (58 kB)\n",
            "\u001b[2K     \u001b[90m━━━━━━━━━━━━━━━━━━━━━━━━━━━━━━━━━━━━━━━━\u001b[0m \u001b[32m58.3/58.3 kB\u001b[0m \u001b[31m4.2 MB/s\u001b[0m eta \u001b[36m0:00:00\u001b[0m\n",
            "\u001b[?25hRequirement already satisfied: annotated-types>=0.4.0 in /usr/local/lib/python3.10/dist-packages (from pydantic<3,>=1.9.0->groq) (0.6.0)\n",
            "Requirement already satisfied: pydantic-core==2.18.1 in /usr/local/lib/python3.10/dist-packages (from pydantic<3,>=1.9.0->groq) (2.18.1)\n",
            "Installing collected packages: h11, httpcore, httpx, groq\n",
            "Successfully installed groq-0.5.0 h11-0.14.0 httpcore-1.0.5 httpx-0.27.0\n"
          ]
        }
      ],
      "source": [
        "!pip install groq --upgrade"
      ]
    },
    {
      "cell_type": "code",
      "source": [
        "import os\n",
        "from google.colab import userdata\n",
        "from groq import Groq\n",
        "\n",
        "client = Groq(\n",
        "    api_key=userdata.get('GROQ_API_KEY'),\n",
        ")"
      ],
      "metadata": {
        "id": "sD2yXj7fm6im"
      },
      "execution_count": 5,
      "outputs": []
    },
    {
      "cell_type": "code",
      "source": [
        "chat_completion = client.chat.completions.create(\n",
        "    messages = [\n",
        "        {\n",
        "            'role': 'system',\n",
        "            'content': 'You are a helpful assistant that can answer almost everything.'\n",
        "        },\n",
        "\n",
        "        {\n",
        "            'role': 'user',\n",
        "            'content': 'Write game snake in python.'\n",
        "        }\n",
        "    ],\n",
        "    model = 'llama3-70b-8192',\n",
        "    temperature = 0.7,\n",
        "    top_p = 0.9,\n",
        "    max_tokens = 1024,\n",
        "    stop = None,\n",
        "    stream = False,\n",
        ")\n",
        "\n",
        "print(chat_completion.choices[0].message.content)"
      ],
      "metadata": {
        "colab": {
          "base_uri": "https://localhost:8080/"
        },
        "id": "ivQh2NbwoJih",
        "outputId": "a0bf2c81-8184-4efd-cfe5-c7da224a5164"
      },
      "execution_count": 6,
      "outputs": [
        {
          "output_type": "stream",
          "name": "stdout",
          "text": [
            "Here is a simple implementation of the classic game Snake in Python using the Pygame library:\n",
            "\n",
            "```\n",
            "import pygame\n",
            "import time\n",
            "import random\n",
            "\n",
            "pygame.init()\n",
            "\n",
            "white = (255, 255, 255)\n",
            "yellow = (255, 255, 102)\n",
            "black = (0, 0, 0)\n",
            "red = (213, 50, 80)\n",
            "green = (0, 255, 0)\n",
            "blue = (50, 153, 213)\n",
            "\n",
            "dis_width = 800\n",
            "dis_height = 600\n",
            "\n",
            "dis = pygame.display.set_mode((dis_width, dis_height))\n",
            "pygame.display.set_caption('Snake Game')\n",
            "\n",
            "clock = pygame.time.Clock()\n",
            "\n",
            "snake_block = 10\n",
            "snake_speed = 15\n",
            "\n",
            "font_style = pygame.font.SysFont(\"bahnschrift\", 25)\n",
            "score_font = pygame.font.SysFont(\"comicsansms\", 35)\n",
            "\n",
            "\n",
            "def Your_score(score):\n",
            "    value = score_font.render(\"Your Score: \" + str(score), True, yellow)\n",
            "    dis.blit(value, [0, 0])\n",
            "\n",
            "\n",
            "def our_snake(snake_block, snake_list):\n",
            "    for x in snake_list:\n",
            "        pygame.draw.rect(dis, black, [x[0], x[1], snake_block, snake_block])\n",
            "\n",
            "\n",
            "def message(msg, color):\n",
            "    mesg = font_style.render(msg, True, color)\n",
            "    dis.blit(mesg, [dis_width / 6, dis_height / 3])\n",
            "\n",
            "\n",
            "def gameLoop():\n",
            "    game_over = False\n",
            "    game_close = False\n",
            "\n",
            "    x1 = dis_width / 2\n",
            "    y1 = dis_height / 2\n",
            "\n",
            "    x1_change = 0\n",
            "    y1_change = 0\n",
            "\n",
            "    snake_List = []\n",
            "    Length_of_snake = 1\n",
            "\n",
            "    foodx = round(random.randrange(0, dis_width - snake_block) / 10.0) * 10.0\n",
            "    foody = round(random.randrange(0, dis_height - snake_block) / 10.0) * 10.0\n",
            "\n",
            "    while not game_over:\n",
            "\n",
            "        while game_close == True:\n",
            "            dis.fill(blue)\n",
            "            message(\"You Lost! Press C-Play Again or Q-Quit\", red)\n",
            "            Your_score(Length_of_snake - 1)\n",
            "            pygame.display.update()\n",
            "\n",
            "            for event in pygame.event.get():\n",
            "                if event.type == pygame.KEYDOWN:\n",
            "                    if event.key == pygame.K_q:\n",
            "                        game_over = True\n",
            "                        game_close = False\n",
            "                    if event.key == pygame.K_c:\n",
            "                        gameLoop()\n",
            "\n",
            "        for event in pygame.event.get():\n",
            "            if event.type == pygame.QUIT:\n",
            "                game_over = True\n",
            "            if event.type == pygame.KEYDOWN:\n",
            "                if event.key == pygame.K_LEFT:\n",
            "                    x1_change = -snake_block\n",
            "                    y1_change = 0\n",
            "                elif event.key == pygame.K_RIGHT:\n",
            "                    x1_change = snake_block\n",
            "                    y1_change = 0\n",
            "                elif event.key == pygame.K_UP:\n",
            "                    y1_change = -snake_block\n",
            "                    x1_change = 0\n",
            "                elif event.key == pygame.K_DOWN:\n",
            "                    y1_change = snake_block\n",
            "                    x1_change = 0\n",
            "\n",
            "        if x1 >= dis_width or x1 < 0 or y1 >= dis_height or y1 < 0:\n",
            "            game_close = True\n",
            "        x1 += x1_change\n",
            "        y1 += y1_change\n",
            "        dis.fill(blue)\n",
            "        pygame.draw.rect(dis, green, [foodx, foody, snake_block, snake_block])\n",
            "        snake_Head = []\n",
            "        snake_Head.append(x1)\n",
            "        snake_Head.append(y1)\n",
            "        snake_List.append(snake_Head)\n",
            "        if len(snake_List) > Length_of_snake:\n",
            "            del snake_List[0]\n",
            "\n",
            "        for x in snake_List[:-1]:\n",
            "            if x == snake_Head:\n",
            "                game_close = True\n",
            "\n",
            "        our_snake(snake_block, snake_List)\n",
            "        Your_score(Length_of_snake - 1)\n",
            "\n",
            "        pygame.display.update()\n",
            "\n",
            "        if x1 == foodx and y1 == foody:\n",
            "            foodx = round(random.randrange(0, dis_width - snake_block) / 10.0) * 10.0\n",
            "            foody = round(random.randrange(0, dis_height - snake_block) / 10.0) * 10.0\n",
            "            Length_of_snake += 1\n",
            "\n",
            "        clock.tick(snake_speed)\n",
            "\n",
            "    pygame.quit()\n",
            "    quit()\n",
            "\n",
            "\n",
            "gameLoop()\n",
            "```\n",
            "\n",
            "This code creates a window with a snake that you can control using the arrow keys. The goal is to eat the green food blocks and avoid hitting the walls or yourself. The score is displayed in the top left corner of the window. If you lose, you can press 'C' to play again or 'Q' to quit.\n",
            "\n",
            "Note: You need to have Pygame installed in your Python environment to run this code. You can install Pygame using pip:\n"
          ]
        }
      ]
    },
    {
      "cell_type": "markdown",
      "source": [
        "You can test the code it works very well.\n",
        "\n",
        "llama-3 is one of the fewest models that can get it right."
      ],
      "metadata": {
        "id": "7myr_OdfqrEA"
      }
    },
    {
      "cell_type": "code",
      "source": [
        "stream = client.chat.completions.create(\n",
        "    messages = [\n",
        "        {\n",
        "            'role': 'system',\n",
        "            'content': 'You are a helpful assistant that can answer almost everything.'\n",
        "        },\n",
        "\n",
        "        {\n",
        "            'role': 'user',\n",
        "            'content': 'Ahmed is faster that passant and passant is faster than Farida. Is Farida is faster than Ahmed.'\n",
        "        }\n",
        "    ],\n",
        "    model = 'llama3-70b-8192',\n",
        "    temperature = 0.7,\n",
        "    top_p = 0.9,\n",
        "    max_tokens = 1024,\n",
        "    stop = None,\n",
        "    stream = True,\n",
        ")\n",
        "\n",
        "for chunk in stream:\n",
        "    print(chunk.choices[0].delta.content, end=\"\")"
      ],
      "metadata": {
        "colab": {
          "base_uri": "https://localhost:8080/"
        },
        "id": "W2MarZlsqR97",
        "outputId": "fffd1116-5008-4236-defd-0bb073051403"
      },
      "execution_count": 9,
      "outputs": [
        {
          "output_type": "stream",
          "name": "stdout",
          "text": [
            "Let's break it down step by step!\n",
            "\n",
            "We know:\n",
            "\n",
            "1. Ahmed is faster than Passant.\n",
            "2. Passant is faster than Farida.\n",
            "\n",
            "From these two statements, we can conclude that Ahmed is faster than Farida. This is because Ahmed is faster than Passant, and Passant is faster than Farida, so Ahmed must be faster than Farida.\n",
            "\n",
            "So, the answer is: No, Farida is not faster than Ahmed.None"
          ]
        }
      ]
    },
    {
      "cell_type": "code",
      "source": [
        "chat_completion = client.chat.completions.create(\n",
        "    messages = [\n",
        "        {\n",
        "            'role': 'system',\n",
        "            'content': 'You are a helpful assistant that can answer almost everything.'\n",
        "        },\n",
        "\n",
        "        {\n",
        "            'role': 'user',\n",
        "            'content': 'Ahmed is faster that passant and passant is faster than Farida. Is Farida is faster than Ahmed.'\n",
        "        }\n",
        "    ],\n",
        "    model = 'llama3-70b-8192',\n",
        "    temperature = 0.7,\n",
        "    top_p = 0.9,\n",
        "    max_tokens = 1024,\n",
        "    stop = None,\n",
        "    stream = False,\n",
        ")\n",
        "\n",
        "print(chat_completion.choices[0].message.content)"
      ],
      "metadata": {
        "colab": {
          "base_uri": "https://localhost:8080/"
        },
        "id": "yz0jXn6erKlD",
        "outputId": "3fbe2ea8-272d-4a87-e6ec-b5fd1818f7e8"
      },
      "execution_count": 10,
      "outputs": [
        {
          "output_type": "stream",
          "name": "stdout",
          "text": [
            "Let's break it down step by step!\n",
            "\n",
            "We know:\n",
            "\n",
            "1. Ahmed is faster than Passant.\n",
            "2. Passant is faster than Farida.\n",
            "\n",
            "From these two statements, we can conclude that:\n",
            "\n",
            "Ahmed > Passant > Farida\n",
            "\n",
            "Where \">\" means \"is faster than\".\n",
            "\n",
            "Now, the question is: Is Farida faster than Ahmed?\n",
            "\n",
            "Looking at the order we established, we can see that Ahmed is actually faster than Farida. So, the answer is:\n",
            "\n",
            "No, Farida is not faster than Ahmed.\n"
          ]
        }
      ]
    },
    {
      "cell_type": "markdown",
      "source": [
        "### You can test it more on your own prompts all you need is to get your [groq api_key](https://console.groq.com/keys)"
      ],
      "metadata": {
        "id": "WdzmkwF3rtL3"
      }
    },
    {
      "cell_type": "code",
      "source": [],
      "metadata": {
        "id": "5ui9_CbSrj9U"
      },
      "execution_count": null,
      "outputs": []
    }
  ]
}