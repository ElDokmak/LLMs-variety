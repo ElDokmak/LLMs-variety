{
  "nbformat": 4,
  "nbformat_minor": 0,
  "metadata": {
    "colab": {
      "provenance": []
    },
    "kernelspec": {
      "name": "python3",
      "display_name": "Python 3"
    },
    "language_info": {
      "name": "python"
    }
  },
  "cells": [
    {
      "cell_type": "code",
      "execution_count": 1,
      "metadata": {
        "colab": {
          "base_uri": "https://localhost:8080/"
        },
        "id": "tBFkVbS43vSV",
        "outputId": "81e2b224-266c-4e09-cc2f-2b2b7588f105"
      },
      "outputs": [
        {
          "output_type": "stream",
          "name": "stdout",
          "text": [
            "Collecting groq\n",
            "  Downloading groq-0.5.0-py3-none-any.whl (75 kB)\n",
            "\u001b[?25l     \u001b[90m━━━━━━━━━━━━━━━━━━━━━━━━━━━━━━━━━━━━━━━━\u001b[0m \u001b[32m0.0/75.0 kB\u001b[0m \u001b[31m?\u001b[0m eta \u001b[36m-:--:--\u001b[0m\r\u001b[2K     \u001b[91m━━━━━━━━━━━━━━━━━━━━━━━━━━━━━━━━━━━━━━\u001b[0m\u001b[90m╺\u001b[0m\u001b[90m━\u001b[0m \u001b[32m71.7/75.0 kB\u001b[0m \u001b[31m2.3 MB/s\u001b[0m eta \u001b[36m0:00:01\u001b[0m\r\u001b[2K     \u001b[90m━━━━━━━━━━━━━━━━━━━━━━━━━━━━━━━━━━━━━━━━\u001b[0m \u001b[32m75.0/75.0 kB\u001b[0m \u001b[31m1.7 MB/s\u001b[0m eta \u001b[36m0:00:00\u001b[0m\n",
            "\u001b[?25hRequirement already satisfied: anyio<5,>=3.5.0 in /usr/local/lib/python3.10/dist-packages (from groq) (3.7.1)\n",
            "Requirement already satisfied: distro<2,>=1.7.0 in /usr/lib/python3/dist-packages (from groq) (1.7.0)\n",
            "Collecting httpx<1,>=0.23.0 (from groq)\n",
            "  Downloading httpx-0.27.0-py3-none-any.whl (75 kB)\n",
            "\u001b[2K     \u001b[90m━━━━━━━━━━━━━━━━━━━━━━━━━━━━━━━━━━━━━━━━\u001b[0m \u001b[32m75.6/75.6 kB\u001b[0m \u001b[31m3.3 MB/s\u001b[0m eta \u001b[36m0:00:00\u001b[0m\n",
            "\u001b[?25hRequirement already satisfied: pydantic<3,>=1.9.0 in /usr/local/lib/python3.10/dist-packages (from groq) (2.7.1)\n",
            "Requirement already satisfied: sniffio in /usr/local/lib/python3.10/dist-packages (from groq) (1.3.1)\n",
            "Requirement already satisfied: typing-extensions<5,>=4.7 in /usr/local/lib/python3.10/dist-packages (from groq) (4.11.0)\n",
            "Requirement already satisfied: idna>=2.8 in /usr/local/lib/python3.10/dist-packages (from anyio<5,>=3.5.0->groq) (3.7)\n",
            "Requirement already satisfied: exceptiongroup in /usr/local/lib/python3.10/dist-packages (from anyio<5,>=3.5.0->groq) (1.2.1)\n",
            "Requirement already satisfied: certifi in /usr/local/lib/python3.10/dist-packages (from httpx<1,>=0.23.0->groq) (2024.2.2)\n",
            "Collecting httpcore==1.* (from httpx<1,>=0.23.0->groq)\n",
            "  Downloading httpcore-1.0.5-py3-none-any.whl (77 kB)\n",
            "\u001b[2K     \u001b[90m━━━━━━━━━━━━━━━━━━━━━━━━━━━━━━━━━━━━━━━━\u001b[0m \u001b[32m77.9/77.9 kB\u001b[0m \u001b[31m4.6 MB/s\u001b[0m eta \u001b[36m0:00:00\u001b[0m\n",
            "\u001b[?25hCollecting h11<0.15,>=0.13 (from httpcore==1.*->httpx<1,>=0.23.0->groq)\n",
            "  Downloading h11-0.14.0-py3-none-any.whl (58 kB)\n",
            "\u001b[2K     \u001b[90m━━━━━━━━━━━━━━━━━━━━━━━━━━━━━━━━━━━━━━━━\u001b[0m \u001b[32m58.3/58.3 kB\u001b[0m \u001b[31m4.5 MB/s\u001b[0m eta \u001b[36m0:00:00\u001b[0m\n",
            "\u001b[?25hRequirement already satisfied: annotated-types>=0.4.0 in /usr/local/lib/python3.10/dist-packages (from pydantic<3,>=1.9.0->groq) (0.6.0)\n",
            "Requirement already satisfied: pydantic-core==2.18.2 in /usr/local/lib/python3.10/dist-packages (from pydantic<3,>=1.9.0->groq) (2.18.2)\n",
            "Installing collected packages: h11, httpcore, httpx, groq\n",
            "Successfully installed groq-0.5.0 h11-0.14.0 httpcore-1.0.5 httpx-0.27.0\n"
          ]
        }
      ],
      "source": [
        "!pip install groq"
      ]
    },
    {
      "cell_type": "markdown",
      "source": [
        "### Load model"
      ],
      "metadata": {
        "id": "mkqEZXTl4HPC"
      }
    },
    {
      "cell_type": "code",
      "source": [
        "import os\n",
        "from google.colab import userdata\n",
        "from groq import Groq\n",
        "\n",
        "client = Groq(\n",
        "    api_key = userdata.get('GROQ_API_KEY')\n",
        ")\n",
        "model = \"llama3-70b-8192\""
      ],
      "metadata": {
        "id": "t8IKNQZK4BGa"
      },
      "execution_count": 3,
      "outputs": []
    },
    {
      "cell_type": "markdown",
      "source": [
        "### Create json with results of 8 UCL"
      ],
      "metadata": {
        "id": "DdBjvZAJ7ZSd"
      }
    },
    {
      "cell_type": "code",
      "source": [
        "import json\n",
        "\n",
        "def get_ucl_quarter_final_score(team_name):\n",
        "  \"\"\"Get the score for a given Football game\"\"\"\n",
        "  if \"arsenal\" in team_name.lower():\n",
        "    return json.dumps(\n",
        "        {\n",
        "            \"game_id\": \"1\", \"status\": \"quarter_final\",\n",
        "            \"home_team\": \"Arsenal\", \"home_team_score\": 2,\n",
        "            \"away_team\": \"Bayern Munich\", \"away_team_score\": 3\n",
        "        }\n",
        "    )\n",
        "  elif \"real\" in team_name.lower():\n",
        "    return json.dumps(\n",
        "        {\n",
        "            \"game_id\": \"2\", \"status\": \"quarter_final\",\n",
        "            \"home_team\": \"Real Madrid\", \"home_team_score\": 4,\n",
        "            \"away_team\": \"Manchester City\", \"away_team_score\": 4\n",
        "        }\n",
        "    )\n",
        "  elif \"paris\" in team_name.lower():\n",
        "    return json.dumps(\n",
        "        {\n",
        "            \"game_id\": \"3\", \"status\": \"quarter_final\",\n",
        "            \"home_team\": \"Barcelona\", \"home_team_score\": 4,\n",
        "            \"away_team\": \"Paris Saint-German\", \"away_team_score\": 6\n",
        "        }\n",
        "    )\n",
        "  elif \"Atletico\" in team_name.lower():\n",
        "    return json.dumps(\n",
        "        {\n",
        "            \"game_id\": \"4\", \"status\": \"quarter_final\",\n",
        "            \"home_team\": \"Borussia Dortmund\", \"home_team_score\": 4,\n",
        "            \"away_team\": \"Atletico de Madrid\", \"away_team_score\": 5\n",
        "        }\n",
        "    )\n",
        "  else:\n",
        "    return json.dumps(\n",
        "        {\n",
        "            \"team_name\": team_name,\n",
        "            \"score\": \"Does not exist\"\n",
        "        }\n",
        "    )"
      ],
      "metadata": {
        "id": "8WiiL0n14kdH"
      },
      "execution_count": 7,
      "outputs": []
    },
    {
      "cell_type": "code",
      "source": [
        "def run_conversation(user_prompt):\n",
        "  # Step 1: send the conversation and available functions to the model\n",
        "  messages = [\n",
        "      {\n",
        "          \"role\": \"system\",\n",
        "          \"content\": \"\"\"You are a function calling LLM that uses the data extracted from the get_ucl_quarter_final_score function to answer questions around football game scores.\n",
        "            Include the team and their opponent in your response.\"\"\"\n",
        "      },\n",
        "      {\n",
        "          \"role\": \"user\",\n",
        "          \"content\": user_prompt\n",
        "      }\n",
        "  ]\n",
        "\n",
        "  tools = [\n",
        "      {\n",
        "          \"type\": \"function\",\n",
        "          \"function\": {\n",
        "              \"name\": \"get_ucl_quarter_final_score\",\n",
        "              \"description\": \"Get the score for a given Football game\",\n",
        "              \"parameters\": {\n",
        "                  \"team_name\": {\n",
        "                      \"type\": \"string\",\n",
        "                      \"description\": \"The name of the Football team (e.g. 'Bayern Munich')\",\n",
        "                  }\n",
        "              },\n",
        "              \"required\": [\"team_name\"],\n",
        "          },\n",
        "      }\n",
        "  ]\n",
        "  response = client.chat.completions.create(\n",
        "        model = model,\n",
        "        messages = messages,\n",
        "        tools = tools,\n",
        "        tool_choice = \"auto\",\n",
        "        max_tokens = 4096\n",
        "  )\n",
        "\n",
        "  response_message = response.choices[0].message\n",
        "  print(f\"Initial Response: {response_message} \\n\")\n",
        "  tool_calls = response_message.tool_calls\n",
        "\n",
        "  print(f\"{tool_calls} \\n\")\n",
        "  # Step 2: check if the model wanted to call a function\n",
        "  print(\"Final Response:\")\n",
        "  if tool_calls:\n",
        "      # Step 3: call the function\n",
        "      available_functions = {\n",
        "          \"get_ucl_quarter_final_score\": get_ucl_quarter_final_score,\n",
        "      }\n",
        "\n",
        "      messages.append(response_message)\n",
        "      # Step 4: send the info for each function call and function response to the model\n",
        "      for tool_call in tool_calls:\n",
        "          function_name = tool_call.function.name\n",
        "          function_to_call = available_functions[function_name]\n",
        "          function_args = json.loads(tool_call.function.arguments)\n",
        "          function_response = function_to_call(\n",
        "              team_name=function_args.get(\"team_name\")\n",
        "          )\n",
        "          messages.append(\n",
        "              {\n",
        "                  \"tool_call_id\": tool_call.id,\n",
        "                  \"role\": \"tool\",\n",
        "                  \"name\": function_name,\n",
        "                  \"content\": function_response,\n",
        "              }\n",
        "          )  # extend conversation with function response\n",
        "      second_response = client.chat.completions.create(\n",
        "          model = model,\n",
        "          messages = messages\n",
        "      )  # get a new response from the model where it can see the function response\n",
        "      return second_response.choices[0].message.content\n",
        "  else:\n",
        "      return response.choices[0].message.content"
      ],
      "metadata": {
        "id": "qPxnUgky7Ut2"
      },
      "execution_count": 8,
      "outputs": []
    },
    {
      "cell_type": "code",
      "source": [
        "user_prompt = \"What was the score of the Arsenal game?\"\n",
        "print(run_conversation(user_prompt))"
      ],
      "metadata": {
        "colab": {
          "base_uri": "https://localhost:8080/"
        },
        "id": "0DltbIK79_oT",
        "outputId": "3fd76161-ded2-4f45-d470-8e94adf6b160"
      },
      "execution_count": 9,
      "outputs": [
        {
          "output_type": "stream",
          "name": "stdout",
          "text": [
            "Initial Response: ChoiceMessage(content=None, role='assistant', tool_calls=[ChoiceMessageToolCall(id='call_vkkc', function=ChoiceMessageToolCallFunction(arguments='{\"team_name\":\"Arsenal\"}', name='get_ucl_quarter_final_score'), type='function')]) \n",
            "\n",
            "[ChoiceMessageToolCall(id='call_vkkc', function=ChoiceMessageToolCallFunction(arguments='{\"team_name\":\"Arsenal\"}', name='get_ucl_quarter_final_score'), type='function')] \n",
            "\n",
            "Final Response:\n",
            "The score of the Arsenal game is: Arsenal 2, Bayern Munich 3.\n"
          ]
        }
      ]
    },
    {
      "cell_type": "code",
      "source": [
        "user_prompt = \"What was the score of the Real Madrid game?\"\n",
        "print(run_conversation(user_prompt))"
      ],
      "metadata": {
        "colab": {
          "base_uri": "https://localhost:8080/"
        },
        "id": "6S5gB288-Er6",
        "outputId": "a2239c07-c9a4-4b92-90da-b21a7e7afffd"
      },
      "execution_count": 10,
      "outputs": [
        {
          "output_type": "stream",
          "name": "stdout",
          "text": [
            "Initial Response: ChoiceMessage(content=None, role='assistant', tool_calls=[ChoiceMessageToolCall(id='call_e9p4', function=ChoiceMessageToolCallFunction(arguments='{\"team_name\":\"Real Madrid\"}', name='get_ucl_quarter_final_score'), type='function')]) \n",
            "\n",
            "[ChoiceMessageToolCall(id='call_e9p4', function=ChoiceMessageToolCallFunction(arguments='{\"team_name\":\"Real Madrid\"}', name='get_ucl_quarter_final_score'), type='function')] \n",
            "\n",
            "Final Response:\n",
            "According to the UCL quarter-final score, Real Madrid played against Manchester City and the score was Real Madrid 4, Manchester City 4.\n"
          ]
        }
      ]
    },
    {
      "cell_type": "code",
      "source": [
        "user_prompt = \"What was the score of the Chelsea game?\"\n",
        "print(run_conversation(user_prompt))"
      ],
      "metadata": {
        "colab": {
          "base_uri": "https://localhost:8080/"
        },
        "id": "D3tvjWXi_nbv",
        "outputId": "d8138418-c33d-46fc-89f6-dbf27846fe2e"
      },
      "execution_count": 11,
      "outputs": [
        {
          "output_type": "stream",
          "name": "stdout",
          "text": [
            "Initial Response: ChoiceMessage(content=None, role='assistant', tool_calls=[ChoiceMessageToolCall(id='call_15xp', function=ChoiceMessageToolCallFunction(arguments='{\"team_name\":\"Chelsea\"}', name='get_ucl_quarter_final_score'), type='function')]) \n",
            "\n",
            "[ChoiceMessageToolCall(id='call_15xp', function=ChoiceMessageToolCallFunction(arguments='{\"team_name\":\"Chelsea\"}', name='get_ucl_quarter_final_score'), type='function')] \n",
            "\n",
            "Final Response:\n",
            "It seems that Chelsea did not make it to the quarterfinals of the UEFA Champions League. As a result, I don't have any score information for Chelsea in the quarterfinals.\n"
          ]
        }
      ]
    },
    {
      "cell_type": "code",
      "source": [],
      "metadata": {
        "id": "Rh5k4M7e_s5w"
      },
      "execution_count": null,
      "outputs": []
    }
  ]
}